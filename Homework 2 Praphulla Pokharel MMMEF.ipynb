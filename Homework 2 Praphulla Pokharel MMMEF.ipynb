{
 "cells": [
  {
   "cell_type": "code",
   "execution_count": 2,
   "id": "86e21e8b",
   "metadata": {},
   "outputs": [],
   "source": [
    "import numpy as np\n",
    "import pandas as pd\n",
    "import matplotlib.pyplot as plt\n",
    "import sklearn as sk\n",
    "from sklearn.linear_model import LogisticRegression\n",
    "from sklearn.metrics import confusion_matrix, precision_score, recall_score, f1_score, accuracy_score\n",
    "\n"
   ]
  },
  {
   "cell_type": "code",
   "execution_count": 3,
   "id": "5d318a16",
   "metadata": {},
   "outputs": [],
   "source": [
    "trading_data = pd.read_csv(\"/Users/praphullapokharel/Downloads/trading_data.csv\", index_col =0)"
   ]
  },
  {
   "cell_type": "code",
   "execution_count": 4,
   "id": "428838c1",
   "metadata": {},
   "outputs": [
    {
     "data": {
      "text/html": [
       "<div>\n",
       "<style scoped>\n",
       "    .dataframe tbody tr th:only-of-type {\n",
       "        vertical-align: middle;\n",
       "    }\n",
       "\n",
       "    .dataframe tbody tr th {\n",
       "        vertical-align: top;\n",
       "    }\n",
       "\n",
       "    .dataframe thead th {\n",
       "        text-align: right;\n",
       "    }\n",
       "</style>\n",
       "<table border=\"1\" class=\"dataframe\">\n",
       "  <thead>\n",
       "    <tr style=\"text-align: right;\">\n",
       "      <th></th>\n",
       "      <th>midprice</th>\n",
       "      <th>id</th>\n",
       "      <th>buy/sell</th>\n",
       "      <th>answeredprice</th>\n",
       "      <th>deal</th>\n",
       "    </tr>\n",
       "  </thead>\n",
       "  <tbody>\n",
       "    <tr>\n",
       "      <th>0</th>\n",
       "      <td>97.9990</td>\n",
       "      <td>4</td>\n",
       "      <td>1</td>\n",
       "      <td>98.016</td>\n",
       "      <td>0.0</td>\n",
       "    </tr>\n",
       "    <tr>\n",
       "      <th>1</th>\n",
       "      <td>97.9988</td>\n",
       "      <td>4</td>\n",
       "      <td>-1</td>\n",
       "      <td>98.001</td>\n",
       "      <td>1.0</td>\n",
       "    </tr>\n",
       "    <tr>\n",
       "      <th>2</th>\n",
       "      <td>97.9951</td>\n",
       "      <td>1</td>\n",
       "      <td>-1</td>\n",
       "      <td>97.979</td>\n",
       "      <td>0.0</td>\n",
       "    </tr>\n",
       "    <tr>\n",
       "      <th>3</th>\n",
       "      <td>97.9971</td>\n",
       "      <td>1</td>\n",
       "      <td>1</td>\n",
       "      <td>97.990</td>\n",
       "      <td>1.0</td>\n",
       "    </tr>\n",
       "    <tr>\n",
       "      <th>4</th>\n",
       "      <td>97.9961</td>\n",
       "      <td>1</td>\n",
       "      <td>-1</td>\n",
       "      <td>97.978</td>\n",
       "      <td>0.0</td>\n",
       "    </tr>\n",
       "  </tbody>\n",
       "</table>\n",
       "</div>"
      ],
      "text/plain": [
       "   midprice  id  buy/sell  answeredprice  deal\n",
       "0   97.9990   4         1         98.016   0.0\n",
       "1   97.9988   4        -1         98.001   1.0\n",
       "2   97.9951   1        -1         97.979   0.0\n",
       "3   97.9971   1         1         97.990   1.0\n",
       "4   97.9961   1        -1         97.978   0.0"
      ]
     },
     "execution_count": 4,
     "metadata": {},
     "output_type": "execute_result"
    }
   ],
   "source": [
    "trading_data.head()\n"
   ]
  },
  {
   "cell_type": "code",
   "execution_count": 5,
   "id": "a861ea3f",
   "metadata": {},
   "outputs": [],
   "source": [
    "trading_data['PriceDiff'] = (trading_data['answeredprice'] - trading_data['midprice'])* trading_data['buy/sell']"
   ]
  },
  {
   "cell_type": "code",
   "execution_count": 6,
   "id": "629527ea",
   "metadata": {},
   "outputs": [
    {
     "data": {
      "text/html": [
       "<div>\n",
       "<style scoped>\n",
       "    .dataframe tbody tr th:only-of-type {\n",
       "        vertical-align: middle;\n",
       "    }\n",
       "\n",
       "    .dataframe tbody tr th {\n",
       "        vertical-align: top;\n",
       "    }\n",
       "\n",
       "    .dataframe thead th {\n",
       "        text-align: right;\n",
       "    }\n",
       "</style>\n",
       "<table border=\"1\" class=\"dataframe\">\n",
       "  <thead>\n",
       "    <tr style=\"text-align: right;\">\n",
       "      <th></th>\n",
       "      <th>midprice</th>\n",
       "      <th>id</th>\n",
       "      <th>buy/sell</th>\n",
       "      <th>answeredprice</th>\n",
       "      <th>deal</th>\n",
       "      <th>PriceDiff</th>\n",
       "    </tr>\n",
       "  </thead>\n",
       "  <tbody>\n",
       "    <tr>\n",
       "      <th>0</th>\n",
       "      <td>97.9990</td>\n",
       "      <td>4</td>\n",
       "      <td>1</td>\n",
       "      <td>98.016</td>\n",
       "      <td>0.0</td>\n",
       "      <td>0.0170</td>\n",
       "    </tr>\n",
       "    <tr>\n",
       "      <th>1</th>\n",
       "      <td>97.9988</td>\n",
       "      <td>4</td>\n",
       "      <td>-1</td>\n",
       "      <td>98.001</td>\n",
       "      <td>1.0</td>\n",
       "      <td>-0.0022</td>\n",
       "    </tr>\n",
       "    <tr>\n",
       "      <th>2</th>\n",
       "      <td>97.9951</td>\n",
       "      <td>1</td>\n",
       "      <td>-1</td>\n",
       "      <td>97.979</td>\n",
       "      <td>0.0</td>\n",
       "      <td>0.0161</td>\n",
       "    </tr>\n",
       "    <tr>\n",
       "      <th>3</th>\n",
       "      <td>97.9971</td>\n",
       "      <td>1</td>\n",
       "      <td>1</td>\n",
       "      <td>97.990</td>\n",
       "      <td>1.0</td>\n",
       "      <td>-0.0071</td>\n",
       "    </tr>\n",
       "    <tr>\n",
       "      <th>4</th>\n",
       "      <td>97.9961</td>\n",
       "      <td>1</td>\n",
       "      <td>-1</td>\n",
       "      <td>97.978</td>\n",
       "      <td>0.0</td>\n",
       "      <td>0.0181</td>\n",
       "    </tr>\n",
       "  </tbody>\n",
       "</table>\n",
       "</div>"
      ],
      "text/plain": [
       "   midprice  id  buy/sell  answeredprice  deal  PriceDiff\n",
       "0   97.9990   4         1         98.016   0.0     0.0170\n",
       "1   97.9988   4        -1         98.001   1.0    -0.0022\n",
       "2   97.9951   1        -1         97.979   0.0     0.0161\n",
       "3   97.9971   1         1         97.990   1.0    -0.0071\n",
       "4   97.9961   1        -1         97.978   0.0     0.0181"
      ]
     },
     "execution_count": 6,
     "metadata": {},
     "output_type": "execute_result"
    }
   ],
   "source": [
    "trading_data.head()"
   ]
  },
  {
   "cell_type": "code",
   "execution_count": 7,
   "id": "b589e017",
   "metadata": {},
   "outputs": [
    {
     "data": {
      "text/plain": [
       "(array([[ 0.017 ],\n",
       "        [-0.0022],\n",
       "        [ 0.0161],\n",
       "        ...,\n",
       "        [-0.0162],\n",
       "        [ 0.0178],\n",
       "        [-0.0087]]),\n",
       " array([0., 1., 0., ..., 1., 0., 1.]))"
      ]
     },
     "execution_count": 7,
     "metadata": {},
     "output_type": "execute_result"
    }
   ],
   "source": [
    "x_train = trading_data['PriceDiff'][:2000].to_numpy().reshape(-1,1)\n",
    "y_train = trading_data['deal'][:2000].to_numpy()\n",
    "x_train, y_train\n"
   ]
  },
  {
   "cell_type": "markdown",
   "id": "dc2a23c4",
   "metadata": {},
   "source": [
    "# Question1\n",
    "\n",
    "In this step, a logistical regression is performed using the training data: x_train and y_train to create a model that allows us to see if a client undertakes a deal or not based on the price difference and historical deal values.\n",
    "\n",
    "Three variations of logisitical regression models were tried:\n",
    "1) Default Model as provided by sklearn library\n",
    "\n",
    "2) Default Model but with fitted values\n",
    "\n",
    "3) Model with no penalty "
   ]
  },
  {
   "cell_type": "code",
   "execution_count": 36,
   "id": "491e914c",
   "metadata": {},
   "outputs": [
    {
     "data": {
      "text/plain": [
       "LogisticRegression()"
      ]
     },
     "execution_count": 36,
     "metadata": {},
     "output_type": "execute_result"
    }
   ],
   "source": [
    "log_clf_normal = LogisticRegression()\n",
    "log_clf_normal.fit(x_train, y_train)"
   ]
  },
  {
   "cell_type": "code",
   "execution_count": 37,
   "id": "5b874092",
   "metadata": {},
   "outputs": [
    {
     "data": {
      "text/plain": [
       "(array([0.10117626]), array([[-7.64395146]]), array([10], dtype=int32))"
      ]
     },
     "execution_count": 37,
     "metadata": {},
     "output_type": "execute_result"
    }
   ],
   "source": [
    "log_clf_normal.intercept_, log_clf_normal.coef_, log_clf_normal.n_iter_"
   ]
  },
  {
   "cell_type": "code",
   "execution_count": 38,
   "id": "b724f04b",
   "metadata": {},
   "outputs": [
    {
     "name": "stdout",
     "output_type": "stream",
     "text": [
      "0.10117625938092163 -7.643951460391229\n"
     ]
    }
   ],
   "source": [
    "alpha_normal = log_clf_normal.intercept_[0]\n",
    "beta_normal = log_clf_normal.coef_[0][0]\n",
    "\n",
    "\n",
    "print(alpha_normal, beta_normal)"
   ]
  },
  {
   "cell_type": "code",
   "execution_count": 39,
   "id": "dc39d8d6",
   "metadata": {},
   "outputs": [],
   "source": [
    "\n",
    "\n",
    "def performance(y_real, y_predicted):\n",
    "    print('The confusion matrix is:')\n",
    "    print(confusion_matrix(y_real, y_predicted))\n",
    "    metrics = {'Accuracy' : accuracy_score, 'Precision' : precision_score, 'Recall': recall_score, 'F1': f1_score}\n",
    "    for metric, func  in metrics.items():\n",
    "        print(metric+': %.2f'%(func(y_real, y_predicted)))\n",
    "\n"
   ]
  },
  {
   "cell_type": "code",
   "execution_count": 41,
   "id": "996c37aa",
   "metadata": {},
   "outputs": [
    {
     "name": "stdout",
     "output_type": "stream",
     "text": [
      "The confusion matrix is:\n",
      "[[ 276  677]\n",
      " [   8 1039]]\n",
      "Accuracy: 0.66\n",
      "Precision: 0.61\n",
      "Recall: 0.99\n",
      "F1: 0.75\n"
     ]
    },
    {
     "data": {
      "text/plain": [
       "array([0., 1., 0., 1., 0., 1., 1., 1., 1., 1., 0., 1., 1., 1., 1., 1., 1.,\n",
       "       1., 1., 1.])"
      ]
     },
     "execution_count": 41,
     "metadata": {},
     "output_type": "execute_result"
    }
   ],
   "source": [
    "x_test = trading_data['PriceDiff'][2000:].to_numpy().reshape(-1,1)\n",
    "ytrain_predicted_normal = log_clf_normal.predict(x_train[:2000])\n",
    "\n",
    "performance(y_train, ytrain_predicted_normal)\n",
    "\n",
    "#One can see that the attained accracy and precision score of this model is around 0.66 and 0.61 respectively. \n",
    "#These values are interpreted as rather low values and it is believed that a better model with higher \n",
    "#accuracy and precision score could be created"
   ]
  },
  {
   "cell_type": "markdown",
   "id": "9bb8129f",
   "metadata": {},
   "source": [
    "# Remark\n",
    "A probability function is also defined based on the obtained alpha and beta values from the logisitic regression to calculate the probability of the client accepting the provided prices from the bond dealer and the deal being accepted by the client. \n",
    "We know that the logistic regression model follows the following format:\n",
    "\n",
    "$${p} = \\frac{1}{1+\\exp^{-(\\alpha+\\beta*x)}}$$\n",
    "\n",
    "However, our required probability model is of the following format\n",
    "$${p} = \\frac{1}{1+\\exp^{(\\alpha+\\beta*x)}}$$\n",
    "\n",
    "So, a minus sign is added infront of alpha and beta variable while defining the probability function"
   ]
  },
  {
   "cell_type": "code",
   "execution_count": 42,
   "id": "801dd2d7",
   "metadata": {},
   "outputs": [],
   "source": [
    "def probability(alpha, beta, price_diff):\n",
    "    return 1/(1+np.exp(-alpha-beta*price_diff))"
   ]
  },
  {
   "cell_type": "code",
   "execution_count": 70,
   "id": "31f25dbe",
   "metadata": {},
   "outputs": [
    {
     "data": {
      "image/png": "[encoded data removed]",
      "text/plain": [
       "<Figure size 432x288 with 1 Axes>"
      ]
     },
     "metadata": {
      "needs_background": "light"
     },
     "output_type": "display_data"
    }
   ],
   "source": [
    "x_test = trading_data['PriceDiff'][2000:].to_numpy().reshape(-1,1)\n",
    "y_proba_normal = probability(alpha_normal, beta_normal, x_test)\n",
    "plt.scatter(x_test,y_proba_normal)\n",
    "plt.show()\n",
    "\n",
    "#We can also see that from the default logistic regression model, the predicted values do not follow a sigmoid curve. \n"
   ]
  },
  {
   "cell_type": "code",
   "execution_count": 61,
   "id": "90a58470",
   "metadata": {},
   "outputs": [
    {
     "data": {
      "image/png": "[encoded data removed]",
      "text/plain": [
       "<Figure size 432x288 with 1 Axes>"
      ]
     },
     "metadata": {
      "needs_background": "light"
     },
     "output_type": "display_data"
    }
   ],
   "source": [
    "from sklearn.preprocessing import StandardScaler\n",
    "plt.hist(x_train)\n",
    "plt.show()\n",
    "\n",
    "#In this step, the xtrain data is fit and transformed to obtain a normal distribution for it. Although normalization\n",
    "# is not required for the logistic regression, one can interpret the results by normalizing the xtrain data which\n",
    "# will provide a better scale for the model to analyze the data. From the plot below, one can see that the xtrain\n",
    "#data is in a compact range(x-asis). However, normalizing will allow the model to interpret the data on a more \n",
    "#flexible range."
   ]
  },
  {
   "cell_type": "code",
   "execution_count": 62,
   "id": "919bff3b",
   "metadata": {},
   "outputs": [
    {
     "data": {
      "image/png": "[encoded data removed]",
      "text/plain": [
       "<Figure size 432x288 with 1 Axes>"
      ]
     },
     "metadata": {
      "needs_background": "light"
     },
     "output_type": "display_data"
    }
   ],
   "source": [
    "sc = StandardScaler()\n",
    "sc.fit(x_train)\n",
    "x_train_reduced = sc.transform(x_train)\n",
    "#X_train_reduced = sc.fit_transform(X_train)\n",
    "#One can see the data is not in a more flexible scale in the x-axis which can be used to obtain more robust results. "
   ]
  },
  {
   "cell_type": "code",
   "execution_count": 55,
   "id": "6bf3c5b6",
   "metadata": {},
   "outputs": [
    {
     "data": {
      "text/plain": [
       "LogisticRegression()"
      ]
     },
     "execution_count": 55,
     "metadata": {},
     "output_type": "execute_result"
    }
   ],
   "source": [
    "log_clf_normal.fit(x_train_reduced, y_train)"
   ]
  },
  {
   "cell_type": "code",
   "execution_count": 56,
   "id": "37fe649e",
   "metadata": {},
   "outputs": [
    {
     "data": {
      "text/plain": [
       "array([9], dtype=int32)"
      ]
     },
     "execution_count": 56,
     "metadata": {},
     "output_type": "execute_result"
    }
   ],
   "source": [
    "log_clf_normal.n_iter_"
   ]
  },
  {
   "cell_type": "code",
   "execution_count": 57,
   "id": "093d9078",
   "metadata": {},
   "outputs": [
    {
     "name": "stdout",
     "output_type": "stream",
     "text": [
      "[0. 1. 0. ... 1. 0. 1.]\n",
      "The confusion matrix is:\n",
      "[[848 105]\n",
      " [114 933]]\n",
      "Accuracy: 0.89\n",
      "Precision: 0.90\n",
      "Recall: 0.89\n",
      "F1: 0.89\n"
     ]
    }
   ],
   "source": [
    "y_test_fitted = log_clf_normal.predict(x_train_reduced[:2000])\n",
    "print(y_test_fitted)\n",
    "performance(y_train, y_test_fitted)\n",
    "\n",
    "#here, one can see that a better results are obtained compared to the results above. "
   ]
  },
  {
   "cell_type": "code",
   "execution_count": 71,
   "id": "b747365d",
   "metadata": {},
   "outputs": [
    {
     "name": "stdout",
     "output_type": "stream",
     "text": [
      "0.3154565154115195 -3.38699431643644\n"
     ]
    },
    {
     "data": {
      "image/png": "[encoded data removed]",
      "text/plain": [
       "<Figure size 432x288 with 1 Axes>"
      ]
     },
     "metadata": {
      "needs_background": "light"
     },
     "output_type": "display_data"
    }
   ],
   "source": [
    "alpha_fitted = log_clf_normal.intercept_[0]\n",
    "beta_fitted = log_clf_normal.coef_ [0][0]\n",
    "\n",
    "print(alpha_fitted, beta_fitted)\n",
    "\n",
    "x_test_reduced = sc.fit_transform(x_test)\n",
    "y_proba_reduced = probability(alpha_fitted, beta_fitted, x_test_reduced)\n",
    "\n",
    "plt.scatter(x_test_reduced,y_proba_reduced)\n",
    "plt.show()\n",
    "\n",
    "#as one can see, this model provided probability values that follow a sigmoid curve. "
   ]
  },
  {
   "cell_type": "code",
   "execution_count": 25,
   "id": "ad516f1b",
   "metadata": {},
   "outputs": [
    {
     "data": {
      "text/plain": [
       "LogisticRegression(penalty='none')"
      ]
     },
     "execution_count": 25,
     "metadata": {},
     "output_type": "execute_result"
    }
   ],
   "source": [
    "#This model uses the parameter that no regularization penalty is applied on the logistic model \n",
    "log_clf_nopenalty = LogisticRegression(penalty=\"none\")\n",
    "log_clf_nopenalty.fit(x_train, y_train)"
   ]
  },
  {
   "cell_type": "code",
   "execution_count": 74,
   "id": "9da6995c",
   "metadata": {},
   "outputs": [
    {
     "name": "stdout",
     "output_type": "stream",
     "text": [
      "The confusion matrix is:\n",
      "[[848 105]\n",
      " [114 933]]\n",
      "Accuracy: 0.89\n",
      "Precision: 0.90\n",
      "Recall: 0.89\n",
      "F1: 0.89\n",
      "0.6327593123792238 -339.65335145135606\n"
     ]
    }
   ],
   "source": [
    "y_predicted_nopenalty = log_clf_nopenalty.predict(x_train[:2000])\n",
    "\n",
    "performance(y_train, y_predicted_nopenalty)\n",
    "alpha_nopenalty = log_clf_nopenalty.intercept_[0]\n",
    "beta_nopenalty = log_clf_nopenalty.coef_[0][0]\n",
    "\n",
    "\n",
    "\n",
    "#From the results of the confusion matrix, there seems to be no difference between this model and the previous model. \n",
    "#To complete the requirement of question 1, the results from this model is used to obtain the final probabilities for \n",
    "#last 200 rows of client data. "
   ]
  },
  {
   "cell_type": "code",
   "execution_count": 76,
   "id": "edaf7feb",
   "metadata": {},
   "outputs": [
    {
     "data": {
      "image/png": "[encoded data removed]",
      "text/plain": [
       "<Figure size 432x288 with 1 Axes>"
      ]
     },
     "metadata": {
      "needs_background": "light"
     },
     "output_type": "display_data"
    },
    {
     "name": "stdout",
     "output_type": "stream",
     "text": [
      "Alpha: 0.6327593123792238\n",
      "Beta: -339.65335145135606\n"
     ]
    }
   ],
   "source": [
    "y_proba_nopenalty = probability(alpha_nopenalty, beta_nopenalty, x_test)\n",
    "plt.scatter(x_test,y_proba_nopenalty)\n",
    "plt.show()\n",
    "\n",
    "#as one can see, this model provided probability values that follow a sigmoid curve. \n",
    "print('Alpha:',alpha_nopenalty)\n",
    "print(\"Beta:\", beta_nopenalty)\n",
    "        "
   ]
  },
  {
   "cell_type": "code",
   "execution_count": 80,
   "id": "a6d9bd57",
   "metadata": {},
   "outputs": [
    {
     "name": "stderr",
     "output_type": "stream",
     "text": [
      "/var/folders/qs/jllp__d54fddcj1w5cn7yqsr0000gn/T/ipykernel_86248/3380263121.py:3: SettingWithCopyWarning: \n",
      "A value is trying to be set on a copy of a slice from a DataFrame.\n",
      "Try using .loc[row_indexer,col_indexer] = value instead\n",
      "\n",
      "See the caveats in the documentation: https://pandas.pydata.org/pandas-docs/stable/user_guide/indexing.html#returning-a-view-versus-a-copy\n",
      "  test_data['Probability'] = probability(alpha_nopenalty, beta_nopenalty, test_data['PriceDiff'])\n"
     ]
    },
    {
     "data": {
      "text/html": [
       "<div>\n",
       "<style scoped>\n",
       "    .dataframe tbody tr th:only-of-type {\n",
       "        vertical-align: middle;\n",
       "    }\n",
       "\n",
       "    .dataframe tbody tr th {\n",
       "        vertical-align: top;\n",
       "    }\n",
       "\n",
       "    .dataframe thead th {\n",
       "        text-align: right;\n",
       "    }\n",
       "</style>\n",
       "<table border=\"1\" class=\"dataframe\">\n",
       "  <thead>\n",
       "    <tr style=\"text-align: right;\">\n",
       "      <th></th>\n",
       "      <th>midprice</th>\n",
       "      <th>id</th>\n",
       "      <th>buy/sell</th>\n",
       "      <th>answeredprice</th>\n",
       "      <th>deal</th>\n",
       "      <th>PriceDiff</th>\n",
       "      <th>Probability</th>\n",
       "    </tr>\n",
       "  </thead>\n",
       "  <tbody>\n",
       "    <tr>\n",
       "      <th>2000</th>\n",
       "      <td>98.0025</td>\n",
       "      <td>3</td>\n",
       "      <td>1</td>\n",
       "      <td>98.001</td>\n",
       "      <td>NaN</td>\n",
       "      <td>-0.0015</td>\n",
       "      <td>0.758091</td>\n",
       "    </tr>\n",
       "    <tr>\n",
       "      <th>2001</th>\n",
       "      <td>98.0003</td>\n",
       "      <td>2</td>\n",
       "      <td>-1</td>\n",
       "      <td>98.015</td>\n",
       "      <td>NaN</td>\n",
       "      <td>-0.0147</td>\n",
       "      <td>0.996409</td>\n",
       "    </tr>\n",
       "    <tr>\n",
       "      <th>2002</th>\n",
       "      <td>98.0020</td>\n",
       "      <td>4</td>\n",
       "      <td>-1</td>\n",
       "      <td>97.984</td>\n",
       "      <td>NaN</td>\n",
       "      <td>0.0180</td>\n",
       "      <td>0.004148</td>\n",
       "    </tr>\n",
       "    <tr>\n",
       "      <th>2003</th>\n",
       "      <td>97.9991</td>\n",
       "      <td>4</td>\n",
       "      <td>1</td>\n",
       "      <td>97.988</td>\n",
       "      <td>NaN</td>\n",
       "      <td>-0.0111</td>\n",
       "      <td>0.987906</td>\n",
       "    </tr>\n",
       "    <tr>\n",
       "      <th>2004</th>\n",
       "      <td>98.0003</td>\n",
       "      <td>2</td>\n",
       "      <td>-1</td>\n",
       "      <td>98.008</td>\n",
       "      <td>NaN</td>\n",
       "      <td>-0.0077</td>\n",
       "      <td>0.962604</td>\n",
       "    </tr>\n",
       "    <tr>\n",
       "      <th>...</th>\n",
       "      <td>...</td>\n",
       "      <td>...</td>\n",
       "      <td>...</td>\n",
       "      <td>...</td>\n",
       "      <td>...</td>\n",
       "      <td>...</td>\n",
       "      <td>...</td>\n",
       "    </tr>\n",
       "    <tr>\n",
       "      <th>2195</th>\n",
       "      <td>97.9943</td>\n",
       "      <td>1</td>\n",
       "      <td>-1</td>\n",
       "      <td>97.995</td>\n",
       "      <td>NaN</td>\n",
       "      <td>-0.0007</td>\n",
       "      <td>0.704853</td>\n",
       "    </tr>\n",
       "    <tr>\n",
       "      <th>2196</th>\n",
       "      <td>97.9977</td>\n",
       "      <td>2</td>\n",
       "      <td>1</td>\n",
       "      <td>98.014</td>\n",
       "      <td>NaN</td>\n",
       "      <td>0.0163</td>\n",
       "      <td>0.007365</td>\n",
       "    </tr>\n",
       "    <tr>\n",
       "      <th>2197</th>\n",
       "      <td>97.9999</td>\n",
       "      <td>3</td>\n",
       "      <td>1</td>\n",
       "      <td>98.009</td>\n",
       "      <td>NaN</td>\n",
       "      <td>0.0091</td>\n",
       "      <td>0.078849</td>\n",
       "    </tr>\n",
       "    <tr>\n",
       "      <th>2198</th>\n",
       "      <td>98.0019</td>\n",
       "      <td>2</td>\n",
       "      <td>-1</td>\n",
       "      <td>98.007</td>\n",
       "      <td>NaN</td>\n",
       "      <td>-0.0051</td>\n",
       "      <td>0.914118</td>\n",
       "    </tr>\n",
       "    <tr>\n",
       "      <th>2199</th>\n",
       "      <td>98.0041</td>\n",
       "      <td>2</td>\n",
       "      <td>1</td>\n",
       "      <td>98.015</td>\n",
       "      <td>NaN</td>\n",
       "      <td>0.0109</td>\n",
       "      <td>0.044385</td>\n",
       "    </tr>\n",
       "  </tbody>\n",
       "</table>\n",
       "<p>200 rows × 7 columns</p>\n",
       "</div>"
      ],
      "text/plain": [
       "      midprice  id  buy/sell  answeredprice  deal  PriceDiff  Probability\n",
       "2000   98.0025   3         1         98.001   NaN    -0.0015     0.758091\n",
       "2001   98.0003   2        -1         98.015   NaN    -0.0147     0.996409\n",
       "2002   98.0020   4        -1         97.984   NaN     0.0180     0.004148\n",
       "2003   97.9991   4         1         97.988   NaN    -0.0111     0.987906\n",
       "2004   98.0003   2        -1         98.008   NaN    -0.0077     0.962604\n",
       "...        ...  ..       ...            ...   ...        ...          ...\n",
       "2195   97.9943   1        -1         97.995   NaN    -0.0007     0.704853\n",
       "2196   97.9977   2         1         98.014   NaN     0.0163     0.007365\n",
       "2197   97.9999   3         1         98.009   NaN     0.0091     0.078849\n",
       "2198   98.0019   2        -1         98.007   NaN    -0.0051     0.914118\n",
       "2199   98.0041   2         1         98.015   NaN     0.0109     0.044385\n",
       "\n",
       "[200 rows x 7 columns]"
      ]
     },
     "execution_count": 80,
     "metadata": {},
     "output_type": "execute_result"
    }
   ],
   "source": [
    "test_data = trading_data[2000:]\n",
    "test_data.head()\n",
    "test_data['Probability'] = probability(alpha_nopenalty, beta_nopenalty, test_data['PriceDiff'])\n",
    "test_data\n",
    "\n",
    "#Here, one can see the final probability results for each client with the probability of taking the deal in the \n",
    "#data frame below:"
   ]
  },
  {
   "cell_type": "markdown",
   "id": "1a84d78a",
   "metadata": {},
   "source": [
    "# Question 2:\n",
    "\n",
    "In this step, the clients data is separated based on their behaviour as shown by the deal column in the original data set based on the price difference. Here, the clients id column is set as a categorical variable and a kmeans clustering library is applied on the given dataset to separate the clients into two clusters. The price difference and the deal columns are used to separate the clients."
   ]
  },
  {
   "cell_type": "code",
   "execution_count": 88,
   "id": "cc823b5c",
   "metadata": {},
   "outputs": [
    {
     "data": {
      "image/png": "[encoded data removed]",
      "text/plain": [
       "<Figure size 432x288 with 1 Axes>"
      ]
     },
     "metadata": {
      "needs_background": "light"
     },
     "output_type": "display_data"
    }
   ],
   "source": [
    "#Q2 clustering the clients into two groups\n",
    "from sklearn.cluster import KMeans\n",
    "kmeans = KMeans(2)\n",
    "\n",
    "cluster_data = trading_data[['id','deal','PriceDiff']][:2000]\n",
    "cluster_data['id'] = cluster_data['id'].astype('str')\n",
    "kmeans.fit(cluster_data)\n",
    "clusters = kmeans.fit_predict(cluster_data)\n",
    "\n",
    "#a new column is added on the cluster datafram with the cluster labels so that it will be easy to filter the data based\n",
    "#on the cluster that the client falls on\n",
    "cluster_data['cluster']=kmeans.labels_\n",
    "\n",
    "\n",
    "plt.scatter(cluster_data['cluster'], cluster_data['id'])\n",
    "plt.show()\n",
    "\n",
    "#From the results of the kmeans clustering , we can see that clients 1,2 and 3,4 form clusters, i.e. 1 and 2 have similar\n",
    "#behaviour based on the given data and so do 3,4.\n"
   ]
  },
  {
   "cell_type": "markdown",
   "id": "c0076b50",
   "metadata": {},
   "source": [
    "# Question 3\n",
    "\n",
    "Now that we know that clients 1,2 and 3,4 have similar behavior, we can build new xtrain and ytrain data by filtering the given data set based on the cluster labels obtained from the previous steps. Logisitc regression is applied on the new xtrain and ytrain for each cluster to obtain new alpha and beta values which will be used to respectively to obtain the probability of train for the last 200 entries. "
   ]
  },
  {
   "cell_type": "code",
   "execution_count": 89,
   "id": "25075022",
   "metadata": {},
   "outputs": [],
   "source": [
    "cluster0_xtrain = cluster_data[cluster_data['cluster']==0][\"PriceDiff\"].to_numpy().reshape(-1,1)\n",
    "cluster1_xtrain = cluster_data[cluster_data['cluster']==1][\"PriceDiff\"].to_numpy().reshape(-1,1)\n",
    "cluster0_ytrain = cluster_data[cluster_data['cluster']==0][\"deal\"].to_numpy()\n",
    "cluster1_ytrain = cluster_data[cluster_data['cluster']==1][\"deal\"].to_numpy()"
   ]
  },
  {
   "cell_type": "code",
   "execution_count": 90,
   "id": "a8b3b99a",
   "metadata": {},
   "outputs": [
    {
     "name": "stdout",
     "output_type": "stream",
     "text": [
      "0.5910957023537159 -322.0455300484333\n"
     ]
    }
   ],
   "source": [
    "cluster0_log_clf= LogisticRegression(penalty=\"none\")\n",
    "cluster0_log_clf.fit(cluster0_xtrain, cluster0_ytrain)\n",
    "alpha_c0 = cluster0_log_clf.intercept_[0]\n",
    "beta_c0 = cluster0_log_clf.coef_[0][0]\n",
    "print(alpha_c0, beta_c0)"
   ]
  },
  {
   "cell_type": "code",
   "execution_count": 91,
   "id": "75b295b2",
   "metadata": {},
   "outputs": [
    {
     "name": "stdout",
     "output_type": "stream",
     "text": [
      "0.6818100113102749 -359.00837771603364\n"
     ]
    }
   ],
   "source": [
    "cluster1_log_clf= LogisticRegression(penalty=\"none\")\n",
    "cluster1_log_clf.fit(cluster1_xtrain, cluster1_ytrain)\n",
    "alpha_c1 = cluster1_log_clf.intercept_[0]\n",
    "beta_c1= cluster1_log_clf.coef_[0][0]\n",
    "print(alpha_c1, beta_c1)"
   ]
  },
  {
   "cell_type": "code",
   "execution_count": 92,
   "id": "3c1dd31f",
   "metadata": {},
   "outputs": [],
   "source": [
    "xtest = trading_data[2000:].reset_index(drop=True)\n",
    "xtest['probability'] = np.nan\n",
    "\n"
   ]
  },
  {
   "cell_type": "code",
   "execution_count": 93,
   "id": "355717db",
   "metadata": {},
   "outputs": [],
   "source": [
    "\n",
    "# return probability(alpha_nopenalty, beta_nopenalty, x_test)"
   ]
  },
  {
   "cell_type": "code",
   "execution_count": 94,
   "id": "88276aea",
   "metadata": {},
   "outputs": [
    {
     "data": {
      "text/html": [
       "<div>\n",
       "<style scoped>\n",
       "    .dataframe tbody tr th:only-of-type {\n",
       "        vertical-align: middle;\n",
       "    }\n",
       "\n",
       "    .dataframe tbody tr th {\n",
       "        vertical-align: top;\n",
       "    }\n",
       "\n",
       "    .dataframe thead th {\n",
       "        text-align: right;\n",
       "    }\n",
       "</style>\n",
       "<table border=\"1\" class=\"dataframe\">\n",
       "  <thead>\n",
       "    <tr style=\"text-align: right;\">\n",
       "      <th></th>\n",
       "      <th>midprice</th>\n",
       "      <th>id</th>\n",
       "      <th>buy/sell</th>\n",
       "      <th>answeredprice</th>\n",
       "      <th>deal</th>\n",
       "      <th>PriceDiff</th>\n",
       "      <th>probability</th>\n",
       "    </tr>\n",
       "  </thead>\n",
       "  <tbody>\n",
       "    <tr>\n",
       "      <th>0</th>\n",
       "      <td>98.0025</td>\n",
       "      <td>3</td>\n",
       "      <td>1</td>\n",
       "      <td>98.001</td>\n",
       "      <td>NaN</td>\n",
       "      <td>-0.0015</td>\n",
       "      <td>0.772120</td>\n",
       "    </tr>\n",
       "    <tr>\n",
       "      <th>1</th>\n",
       "      <td>98.0003</td>\n",
       "      <td>2</td>\n",
       "      <td>-1</td>\n",
       "      <td>98.015</td>\n",
       "      <td>NaN</td>\n",
       "      <td>-0.0147</td>\n",
       "      <td>0.995156</td>\n",
       "    </tr>\n",
       "    <tr>\n",
       "      <th>2</th>\n",
       "      <td>98.0020</td>\n",
       "      <td>4</td>\n",
       "      <td>-1</td>\n",
       "      <td>97.984</td>\n",
       "      <td>NaN</td>\n",
       "      <td>0.0180</td>\n",
       "      <td>0.003078</td>\n",
       "    </tr>\n",
       "    <tr>\n",
       "      <th>3</th>\n",
       "      <td>97.9991</td>\n",
       "      <td>4</td>\n",
       "      <td>1</td>\n",
       "      <td>97.988</td>\n",
       "      <td>NaN</td>\n",
       "      <td>-0.0111</td>\n",
       "      <td>0.990685</td>\n",
       "    </tr>\n",
       "    <tr>\n",
       "      <th>4</th>\n",
       "      <td>98.0003</td>\n",
       "      <td>2</td>\n",
       "      <td>-1</td>\n",
       "      <td>98.008</td>\n",
       "      <td>NaN</td>\n",
       "      <td>-0.0077</td>\n",
       "      <td>0.955674</td>\n",
       "    </tr>\n",
       "    <tr>\n",
       "      <th>...</th>\n",
       "      <td>...</td>\n",
       "      <td>...</td>\n",
       "      <td>...</td>\n",
       "      <td>...</td>\n",
       "      <td>...</td>\n",
       "      <td>...</td>\n",
       "      <td>...</td>\n",
       "    </tr>\n",
       "    <tr>\n",
       "      <th>195</th>\n",
       "      <td>97.9943</td>\n",
       "      <td>1</td>\n",
       "      <td>-1</td>\n",
       "      <td>97.995</td>\n",
       "      <td>NaN</td>\n",
       "      <td>-0.0007</td>\n",
       "      <td>0.693499</td>\n",
       "    </tr>\n",
       "    <tr>\n",
       "      <th>196</th>\n",
       "      <td>97.9977</td>\n",
       "      <td>2</td>\n",
       "      <td>1</td>\n",
       "      <td>98.014</td>\n",
       "      <td>NaN</td>\n",
       "      <td>0.0163</td>\n",
       "      <td>0.009394</td>\n",
       "    </tr>\n",
       "    <tr>\n",
       "      <th>197</th>\n",
       "      <td>97.9999</td>\n",
       "      <td>3</td>\n",
       "      <td>1</td>\n",
       "      <td>98.009</td>\n",
       "      <td>NaN</td>\n",
       "      <td>0.0091</td>\n",
       "      <td>0.070099</td>\n",
       "    </tr>\n",
       "    <tr>\n",
       "      <th>198</th>\n",
       "      <td>98.0019</td>\n",
       "      <td>2</td>\n",
       "      <td>-1</td>\n",
       "      <td>98.007</td>\n",
       "      <td>NaN</td>\n",
       "      <td>-0.0051</td>\n",
       "      <td>0.903220</td>\n",
       "    </tr>\n",
       "    <tr>\n",
       "      <th>199</th>\n",
       "      <td>98.0041</td>\n",
       "      <td>2</td>\n",
       "      <td>1</td>\n",
       "      <td>98.015</td>\n",
       "      <td>NaN</td>\n",
       "      <td>0.0109</td>\n",
       "      <td>0.051213</td>\n",
       "    </tr>\n",
       "  </tbody>\n",
       "</table>\n",
       "<p>200 rows × 7 columns</p>\n",
       "</div>"
      ],
      "text/plain": [
       "     midprice  id  buy/sell  answeredprice  deal  PriceDiff  probability\n",
       "0     98.0025   3         1         98.001   NaN    -0.0015     0.772120\n",
       "1     98.0003   2        -1         98.015   NaN    -0.0147     0.995156\n",
       "2     98.0020   4        -1         97.984   NaN     0.0180     0.003078\n",
       "3     97.9991   4         1         97.988   NaN    -0.0111     0.990685\n",
       "4     98.0003   2        -1         98.008   NaN    -0.0077     0.955674\n",
       "..        ...  ..       ...            ...   ...        ...          ...\n",
       "195   97.9943   1        -1         97.995   NaN    -0.0007     0.693499\n",
       "196   97.9977   2         1         98.014   NaN     0.0163     0.009394\n",
       "197   97.9999   3         1         98.009   NaN     0.0091     0.070099\n",
       "198   98.0019   2        -1         98.007   NaN    -0.0051     0.903220\n",
       "199   98.0041   2         1         98.015   NaN     0.0109     0.051213\n",
       "\n",
       "[200 rows x 7 columns]"
      ]
     },
     "execution_count": 94,
     "metadata": {},
     "output_type": "execute_result"
    }
   ],
   "source": [
    "for x in range(len(xtest)):\n",
    "    if ((xtest.iloc[x]['id'] == 1)|(xtest.iloc[x]['id'] ==2)):\n",
    "        xtest.loc[x,'probability'] = probability(alpha_c0, beta_c0, xtest.loc[x,'PriceDiff'])\n",
    "    else:\n",
    "        xtest.loc[x,'probability'] = probability(alpha_c1, beta_c1, xtest.loc[x,'PriceDiff'])\n",
    "xtest\n",
    "\n",
    "#here one can see the probability of trade for each entry based on the cluster that the client falls on. "
   ]
  }
 ],
 "metadata": {
  "kernelspec": {
   "display_name": "Python 3 (ipykernel)",
   "language": "python",
   "name": "python3"
  },
  "language_info": {
   "codemirror_mode": {
    "name": "ipython",
    "version": 3
   },
   "file_extension": ".py",
   "mimetype": "text/x-python",
   "name": "python",
   "nbconvert_exporter": "python",
   "pygments_lexer": "ipython3",
   "version": "3.9.7"
  }
 },
 "nbformat": 4,
 "nbformat_minor": 5
}
